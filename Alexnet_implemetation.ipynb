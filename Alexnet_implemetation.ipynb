{
  "nbformat": 4,
  "nbformat_minor": 0,
  "metadata": {
    "colab": {
      "provenance": [],
      "authorship_tag": "ABX9TyMoEdpuWSc4OqgZd8fY0wug",
      "include_colab_link": true
    },
    "kernelspec": {
      "name": "python3",
      "display_name": "Python 3"
    },
    "language_info": {
      "name": "python"
    },
    "accelerator": "GPU"
  },
  "cells": [
    {
      "cell_type": "markdown",
      "metadata": {
        "id": "view-in-github",
        "colab_type": "text"
      },
      "source": [
        "<a href=\"https://colab.research.google.com/github/Shubhamlad1/Deep-Learning-Basics/blob/main/Alexnet_implemetation.ipynb\" target=\"_parent\"><img src=\"https://colab.research.google.com/assets/colab-badge.svg\" alt=\"Open In Colab\"/></a>"
      ]
    },
    {
      "cell_type": "code",
      "execution_count": 2,
      "metadata": {
        "id": "D0LjjV9tDnDb"
      },
      "outputs": [],
      "source": [
        "import tensorflow as tf\n",
        "from tensorflow import keras\n",
        "import pandas as pd\n",
        "import keras\n",
        "from keras.layers import Dense, Activation, Dropout, Conv2D, Flatten, MaxPooling2D\n",
        "from keras.models import Sequential\n",
        "from keras.layers import BatchNormalization "
      ]
    },
    {
      "cell_type": "code",
      "source": [
        "!pip install tflearn"
      ],
      "metadata": {
        "colab": {
          "base_uri": "https://localhost:8080/"
        },
        "id": "UjzF7mn_D853",
        "outputId": "23f21718-cfeb-425e-843c-73e0b69cd3a0"
      },
      "execution_count": 3,
      "outputs": [
        {
          "output_type": "stream",
          "name": "stdout",
          "text": [
            "Looking in indexes: https://pypi.org/simple, https://us-python.pkg.dev/colab-wheels/public/simple/\n",
            "Collecting tflearn\n",
            "  Downloading tflearn-0.5.0.tar.gz (107 kB)\n",
            "\u001b[K     |████████████████████████████████| 107 kB 37.4 MB/s \n",
            "\u001b[?25hRequirement already satisfied: numpy in /usr/local/lib/python3.7/dist-packages (from tflearn) (1.21.6)\n",
            "Requirement already satisfied: six in /usr/local/lib/python3.7/dist-packages (from tflearn) (1.15.0)\n",
            "Requirement already satisfied: Pillow in /usr/local/lib/python3.7/dist-packages (from tflearn) (7.1.2)\n",
            "Building wheels for collected packages: tflearn\n",
            "  Building wheel for tflearn (setup.py) ... \u001b[?25l\u001b[?25hdone\n",
            "  Created wheel for tflearn: filename=tflearn-0.5.0-py3-none-any.whl size=127299 sha256=05a23d2c9f02d4d063f8550c0570b07a8e856ef5e091e8c6f815edaff10edf2b\n",
            "  Stored in directory: /root/.cache/pip/wheels/5f/14/2e/1d8e28cc47a5a931a2fb82438c9e37ef9246cc6a3774520271\n",
            "Successfully built tflearn\n",
            "Installing collected packages: tflearn\n",
            "Successfully installed tflearn-0.5.0\n"
          ]
        }
      ]
    },
    {
      "cell_type": "code",
      "source": [
        "import tflearn.datasets.oxflower17 as ox\n",
        "X, y = ox.load_data(one_hot=True)"
      ],
      "metadata": {
        "colab": {
          "base_uri": "https://localhost:8080/"
        },
        "id": "ve1G3bUVF6dt",
        "outputId": "d3254b04-a21a-4de5-b9c7-3317d3e8fb08"
      },
      "execution_count": 4,
      "outputs": [
        {
          "output_type": "stream",
          "name": "stdout",
          "text": [
            "Downloading Oxford 17 category Flower Dataset, Please wait...\n"
          ]
        },
        {
          "output_type": "stream",
          "name": "stderr",
          "text": [
            "100.0% 60276736 / 60270631\n"
          ]
        },
        {
          "output_type": "stream",
          "name": "stdout",
          "text": [
            "Succesfully downloaded 17flowers.tgz 60270631 bytes.\n",
            "File Extracted\n",
            "Starting to parse images...\n",
            "Parsing Done!\n"
          ]
        }
      ]
    },
    {
      "cell_type": "code",
      "source": [
        "X"
      ],
      "metadata": {
        "colab": {
          "base_uri": "https://localhost:8080/"
        },
        "id": "KtiLT3Y2GaR7",
        "outputId": "a4ebc52c-e9e0-4c6e-d3ed-4708e756980c"
      },
      "execution_count": 5,
      "outputs": [
        {
          "output_type": "execute_result",
          "data": {
            "text/plain": [
              "array([[[[0.14901961, 0.23529412, 0.04705882],\n",
              "         [0.14117648, 0.22352941, 0.03529412],\n",
              "         [0.14117648, 0.21176471, 0.03529412],\n",
              "         ...,\n",
              "         [0.16470589, 0.1882353 , 0.18039216],\n",
              "         [0.15294118, 0.1764706 , 0.16862746],\n",
              "         [0.14901961, 0.17254902, 0.16470589]],\n",
              "\n",
              "        [[0.13333334, 0.21960784, 0.03921569],\n",
              "         [0.12941177, 0.21568628, 0.03529412],\n",
              "         [0.12941177, 0.20784314, 0.03529412],\n",
              "         ...,\n",
              "         [0.16470589, 0.1882353 , 0.18039216],\n",
              "         [0.15686275, 0.18039216, 0.16862746],\n",
              "         [0.15294118, 0.1764706 , 0.16078432]],\n",
              "\n",
              "        [[0.10980392, 0.19215687, 0.03137255],\n",
              "         [0.11372549, 0.2       , 0.03921569],\n",
              "         [0.12156863, 0.20784314, 0.04705882],\n",
              "         ...,\n",
              "         [0.16862746, 0.19215687, 0.18431373],\n",
              "         [0.16078432, 0.1882353 , 0.16862746],\n",
              "         [0.15686275, 0.18431373, 0.15686275]],\n",
              "\n",
              "        ...,\n",
              "\n",
              "        [[0.21960784, 0.28627452, 0.11764706],\n",
              "         [0.23137255, 0.3019608 , 0.11764706],\n",
              "         [0.24313726, 0.3137255 , 0.11372549],\n",
              "         ...,\n",
              "         [0.34117648, 0.4117647 , 0.19607843],\n",
              "         [0.2       , 0.2509804 , 0.02352941],\n",
              "         [0.36078432, 0.40784314, 0.14509805]],\n",
              "\n",
              "        [[0.20784314, 0.2627451 , 0.11764706],\n",
              "         [0.1254902 , 0.18431373, 0.03921569],\n",
              "         [0.10588235, 0.16078432, 0.02745098],\n",
              "         ...,\n",
              "         [0.30588236, 0.37254903, 0.14117648],\n",
              "         [0.19215687, 0.26666668, 0.01960784],\n",
              "         [0.3372549 , 0.38039216, 0.13333334]],\n",
              "\n",
              "        [[0.1882353 , 0.23921569, 0.10196079],\n",
              "         [0.16470589, 0.21568628, 0.09019608],\n",
              "         [0.15294118, 0.20392157, 0.09411765],\n",
              "         ...,\n",
              "         [0.24705882, 0.31764707, 0.07843138],\n",
              "         [0.17254902, 0.24705882, 0.00784314],\n",
              "         [0.3137255 , 0.3529412 , 0.11764706]]],\n",
              "\n",
              "\n",
              "       [[[0.0627451 , 0.0627451 , 0.0627451 ],\n",
              "         [0.04313726, 0.04313726, 0.04313726],\n",
              "         [0.03137255, 0.03137255, 0.03137255],\n",
              "         ...,\n",
              "         [0.01568628, 0.00392157, 0.02745098],\n",
              "         [0.02352941, 0.        , 0.00784314],\n",
              "         [0.14901961, 0.03529412, 0.05490196]],\n",
              "\n",
              "        [[0.05490196, 0.05490196, 0.05490196],\n",
              "         [0.04313726, 0.04313726, 0.04313726],\n",
              "         [0.03529412, 0.03529412, 0.03529412],\n",
              "         ...,\n",
              "         [0.01176471, 0.00784314, 0.01176471],\n",
              "         [0.02352941, 0.        , 0.        ],\n",
              "         [0.15294118, 0.03137255, 0.04705882]],\n",
              "\n",
              "        [[0.03921569, 0.03921569, 0.03921569],\n",
              "         [0.03529412, 0.03529412, 0.03529412],\n",
              "         [0.03529412, 0.03529412, 0.03529412],\n",
              "         ...,\n",
              "         [0.00784314, 0.01176471, 0.        ],\n",
              "         [0.02352941, 0.00392157, 0.        ],\n",
              "         [0.15294118, 0.03137255, 0.03921569]],\n",
              "\n",
              "        ...,\n",
              "\n",
              "        [[0.03529412, 0.03529412, 0.03921569],\n",
              "         [0.02745098, 0.02745098, 0.02745098],\n",
              "         [0.02745098, 0.02745098, 0.02745098],\n",
              "         ...,\n",
              "         [0.04313726, 0.02745098, 0.03137255],\n",
              "         [0.02745098, 0.00392157, 0.01176471],\n",
              "         [0.05098039, 0.00784314, 0.02352941]],\n",
              "\n",
              "        [[0.04313726, 0.04705882, 0.01568628],\n",
              "         [0.03921569, 0.03921569, 0.01176471],\n",
              "         [0.03921569, 0.04313726, 0.02352941],\n",
              "         ...,\n",
              "         [0.03921569, 0.02745098, 0.03529412],\n",
              "         [0.01960784, 0.00784314, 0.00784314],\n",
              "         [0.03921569, 0.01568628, 0.02352941]],\n",
              "\n",
              "        [[0.05098039, 0.0627451 , 0.01568628],\n",
              "         [0.04313726, 0.04705882, 0.01176471],\n",
              "         [0.05098039, 0.05490196, 0.03137255],\n",
              "         ...,\n",
              "         [0.00784314, 0.        , 0.00392157],\n",
              "         [0.01960784, 0.00392157, 0.00784314],\n",
              "         [0.03921569, 0.01960784, 0.02352941]]],\n",
              "\n",
              "\n",
              "       [[[0.52156866, 0.6039216 , 0.23137255],\n",
              "         [0.5568628 , 0.6313726 , 0.2627451 ],\n",
              "         [0.5764706 , 0.63529414, 0.29803923],\n",
              "         ...,\n",
              "         [0.6       , 0.65882355, 0.49411765],\n",
              "         [0.5686275 , 0.627451  , 0.46666667],\n",
              "         [0.5647059 , 0.62352943, 0.4627451 ]],\n",
              "\n",
              "        [[0.5058824 , 0.5882353 , 0.21568628],\n",
              "         [0.5411765 , 0.6156863 , 0.24705882],\n",
              "         [0.5686275 , 0.62352943, 0.28235295],\n",
              "         ...,\n",
              "         [0.6       , 0.65882355, 0.49019608],\n",
              "         [0.57254905, 0.6313726 , 0.4627451 ],\n",
              "         [0.57254905, 0.6313726 , 0.4627451 ]],\n",
              "\n",
              "        [[0.48235294, 0.57254905, 0.19215687],\n",
              "         [0.5176471 , 0.59607846, 0.22352941],\n",
              "         [0.54509807, 0.6039216 , 0.25882354],\n",
              "         ...,\n",
              "         [0.6117647 , 0.67058825, 0.49803922],\n",
              "         [0.5882353 , 0.6509804 , 0.4745098 ],\n",
              "         [0.5882353 , 0.64705884, 0.4745098 ]],\n",
              "\n",
              "        ...,\n",
              "\n",
              "        [[0.42745098, 0.40784314, 0.04705882],\n",
              "         [0.39607844, 0.3764706 , 0.01568628],\n",
              "         [0.39215687, 0.3647059 , 0.00392157],\n",
              "         ...,\n",
              "         [0.49411765, 0.5764706 , 0.21960784],\n",
              "         [0.5529412 , 0.6313726 , 0.28235295],\n",
              "         [0.60784316, 0.6862745 , 0.34117648]],\n",
              "\n",
              "        [[0.38431373, 0.36078432, 0.00784314],\n",
              "         [0.38431373, 0.35686275, 0.        ],\n",
              "         [0.40392157, 0.36862746, 0.01176471],\n",
              "         ...,\n",
              "         [0.46666667, 0.54509807, 0.19607843],\n",
              "         [0.50980395, 0.5882353 , 0.24313726],\n",
              "         [0.5803922 , 0.65882355, 0.31764707]],\n",
              "\n",
              "        [[0.37254903, 0.34509805, 0.        ],\n",
              "         [0.39215687, 0.36078432, 0.00784314],\n",
              "         [0.41960785, 0.38431373, 0.02745098],\n",
              "         ...,\n",
              "         [0.44705883, 0.5254902 , 0.1764706 ],\n",
              "         [0.47058824, 0.54901963, 0.20784314],\n",
              "         [0.5372549 , 0.6156863 , 0.2784314 ]]],\n",
              "\n",
              "\n",
              "       ...,\n",
              "\n",
              "\n",
              "       [[[0.50980395, 0.5568628 , 0.31764707],\n",
              "         [0.53333336, 0.5803922 , 0.3529412 ],\n",
              "         [0.45490196, 0.49411765, 0.28235295],\n",
              "         ...,\n",
              "         [0.8392157 , 0.6784314 , 0.11372549],\n",
              "         [0.8156863 , 0.63529414, 0.17254902],\n",
              "         [0.7137255 , 0.52156866, 0.16078432]],\n",
              "\n",
              "        [[0.45882353, 0.49803922, 0.29411766],\n",
              "         [0.43529412, 0.4745098 , 0.2784314 ],\n",
              "         [0.39215687, 0.42745098, 0.24313726],\n",
              "         ...,\n",
              "         [0.8627451 , 0.6901961 , 0.12941177],\n",
              "         [0.8352941 , 0.6509804 , 0.19607843],\n",
              "         [0.7294118 , 0.5294118 , 0.1764706 ]],\n",
              "\n",
              "        [[0.27450982, 0.3019608 , 0.16078432],\n",
              "         [0.29411766, 0.3254902 , 0.18431373],\n",
              "         [0.3254902 , 0.3529412 , 0.21960784],\n",
              "         ...,\n",
              "         [0.87058824, 0.68235296, 0.1254902 ],\n",
              "         [0.84313726, 0.6431373 , 0.20392157],\n",
              "         [0.7019608 , 0.49411765, 0.15686275]],\n",
              "\n",
              "        ...,\n",
              "\n",
              "        [[0.08627451, 0.12156863, 0.10980392],\n",
              "         [0.08235294, 0.11764706, 0.10196079],\n",
              "         [0.09019608, 0.12941177, 0.10588235],\n",
              "         ...,\n",
              "         [0.11764706, 0.14117648, 0.12156863],\n",
              "         [0.12941177, 0.14901961, 0.13333334],\n",
              "         [0.15294118, 0.17254902, 0.15686275]],\n",
              "\n",
              "        [[0.08235294, 0.11372549, 0.09019608],\n",
              "         [0.07843138, 0.10588235, 0.08235294],\n",
              "         [0.08235294, 0.11372549, 0.08627451],\n",
              "         ...,\n",
              "         [0.10196079, 0.11764706, 0.11372549],\n",
              "         [0.11372549, 0.12941177, 0.12156863],\n",
              "         [0.14509805, 0.16078432, 0.15686275]],\n",
              "\n",
              "        [[0.08627451, 0.11372549, 0.08627451],\n",
              "         [0.07843138, 0.10588235, 0.07843138],\n",
              "         [0.08235294, 0.10980392, 0.08235294],\n",
              "         ...,\n",
              "         [0.09411765, 0.10980392, 0.10588235],\n",
              "         [0.10196079, 0.11764706, 0.11372549],\n",
              "         [0.13725491, 0.15294118, 0.14901961]]],\n",
              "\n",
              "\n",
              "       [[[0.23137255, 0.22745098, 0.21960784],\n",
              "         [0.22352941, 0.21960784, 0.21176471],\n",
              "         [0.23921569, 0.23529412, 0.22745098],\n",
              "         ...,\n",
              "         [0.11372549, 0.19607843, 0.07450981],\n",
              "         [0.1254902 , 0.20392157, 0.08627451],\n",
              "         [0.12156863, 0.19215687, 0.06666667]],\n",
              "\n",
              "        [[0.23921569, 0.23529412, 0.22745098],\n",
              "         [0.2509804 , 0.24705882, 0.23921569],\n",
              "         [0.25882354, 0.25490198, 0.24705882],\n",
              "         ...,\n",
              "         [0.1254902 , 0.22745098, 0.09803922],\n",
              "         [0.12941177, 0.22352941, 0.09411765],\n",
              "         [0.12156863, 0.20784314, 0.07058824]],\n",
              "\n",
              "        [[0.2627451 , 0.25882354, 0.2509804 ],\n",
              "         [0.28235295, 0.2784314 , 0.27058825],\n",
              "         [0.2784314 , 0.27450982, 0.26666668],\n",
              "         ...,\n",
              "         [0.14509805, 0.26666668, 0.1254902 ],\n",
              "         [0.13333334, 0.24313726, 0.10196079],\n",
              "         [0.11372549, 0.21960784, 0.07058824]],\n",
              "\n",
              "        ...,\n",
              "\n",
              "        [[0.45490196, 0.58431375, 0.30980393],\n",
              "         [0.54509807, 0.7137255 , 0.3882353 ],\n",
              "         [0.5803922 , 0.76862746, 0.40392157],\n",
              "         ...,\n",
              "         [0.20392157, 0.27058825, 0.11372549],\n",
              "         [0.21568628, 0.2784314 , 0.10588235],\n",
              "         [0.21176471, 0.2784314 , 0.09803922]],\n",
              "\n",
              "        [[0.15686275, 0.19215687, 0.09803922],\n",
              "         [0.29803923, 0.35686275, 0.2784314 ],\n",
              "         [0.41960785, 0.5058824 , 0.38039216],\n",
              "         ...,\n",
              "         [0.1882353 , 0.28235295, 0.11372549],\n",
              "         [0.1764706 , 0.27058825, 0.10196079],\n",
              "         [0.16862746, 0.25882354, 0.09411765]],\n",
              "\n",
              "        [[0.0627451 , 0.0627451 , 0.03529412],\n",
              "         [0.02745098, 0.05490196, 0.0627451 ],\n",
              "         [0.22745098, 0.28235295, 0.23137255],\n",
              "         ...,\n",
              "         [0.18431373, 0.28627452, 0.11764706],\n",
              "         [0.15686275, 0.25882354, 0.09411765],\n",
              "         [0.14509805, 0.24705882, 0.08235294]]],\n",
              "\n",
              "\n",
              "       [[[0.62352943, 0.62352943, 0.6156863 ],\n",
              "         [0.3372549 , 0.3372549 , 0.32941177],\n",
              "         [0.3764706 , 0.3764706 , 0.36862746],\n",
              "         ...,\n",
              "         [0.34509805, 0.35686275, 0.38431373],\n",
              "         [0.42352942, 0.44313726, 0.4627451 ],\n",
              "         [0.7254902 , 0.74509805, 0.75686276]],\n",
              "\n",
              "        [[0.45882353, 0.45882353, 0.4509804 ],\n",
              "         [0.00784314, 0.00784314, 0.00392157],\n",
              "         [0.        , 0.        , 0.        ],\n",
              "         ...,\n",
              "         [0.        , 0.        , 0.00784314],\n",
              "         [0.11372549, 0.13333334, 0.15294118],\n",
              "         [0.6       , 0.61960787, 0.63529414]],\n",
              "\n",
              "        [[0.4509804 , 0.4509804 , 0.44313726],\n",
              "         [0.03137255, 0.03137255, 0.02745098],\n",
              "         [0.01960784, 0.01960784, 0.01568628],\n",
              "         ...,\n",
              "         [0.03921569, 0.05490196, 0.09019608],\n",
              "         [0.09019608, 0.10980392, 0.12941177],\n",
              "         [0.59607846, 0.6156863 , 0.6313726 ]],\n",
              "\n",
              "        ...,\n",
              "\n",
              "        [[0.43529412, 0.43137255, 0.43137255],\n",
              "         [0.        , 0.        , 0.        ],\n",
              "         [0.00392157, 0.        , 0.        ],\n",
              "         ...,\n",
              "         [0.        , 0.        , 0.        ],\n",
              "         [0.09019608, 0.09019608, 0.08235294],\n",
              "         [0.58431375, 0.58431375, 0.5803922 ]],\n",
              "\n",
              "        [[0.52156866, 0.52156866, 0.5176471 ],\n",
              "         [0.1882353 , 0.1882353 , 0.1882353 ],\n",
              "         [0.17254902, 0.1764706 , 0.17254902],\n",
              "         ...,\n",
              "         [0.18039216, 0.18039216, 0.1764706 ],\n",
              "         [0.27450982, 0.27450982, 0.27058825],\n",
              "         [0.63529414, 0.63529414, 0.63529414]],\n",
              "\n",
              "        [[0.91764706, 0.91764706, 0.91764706],\n",
              "         [0.827451  , 0.827451  , 0.827451  ],\n",
              "         [0.84313726, 0.84313726, 0.8392157 ],\n",
              "         ...,\n",
              "         [0.84705883, 0.84705883, 0.84705883],\n",
              "         [0.8352941 , 0.8352941 , 0.8352941 ],\n",
              "         [0.9411765 , 0.9411765 , 0.9411765 ]]]], dtype=float32)"
            ]
          },
          "metadata": {},
          "execution_count": 5
        }
      ]
    },
    {
      "cell_type": "code",
      "source": [
        "y"
      ],
      "metadata": {
        "colab": {
          "base_uri": "https://localhost:8080/"
        },
        "id": "J6Av9EPfG8-H",
        "outputId": "9cf83b76-3954-44e4-f8fa-64e5051304e3"
      },
      "execution_count": 6,
      "outputs": [
        {
          "output_type": "execute_result",
          "data": {
            "text/plain": [
              "array([[0., 0., 0., ..., 0., 0., 0.],\n",
              "       [0., 0., 0., ..., 0., 0., 0.],\n",
              "       [0., 0., 0., ..., 0., 0., 0.],\n",
              "       ...,\n",
              "       [0., 0., 0., ..., 0., 0., 1.],\n",
              "       [0., 0., 0., ..., 0., 0., 0.],\n",
              "       [0., 0., 0., ..., 0., 0., 0.]])"
            ]
          },
          "metadata": {},
          "execution_count": 6
        }
      ]
    },
    {
      "cell_type": "code",
      "source": [
        "X.shape"
      ],
      "metadata": {
        "colab": {
          "base_uri": "https://localhost:8080/"
        },
        "id": "gQOPJ0dBHMZj",
        "outputId": "516d510f-bbd0-449f-a4b3-e3c180276e1c"
      },
      "execution_count": 7,
      "outputs": [
        {
          "output_type": "execute_result",
          "data": {
            "text/plain": [
              "(1360, 224, 224, 3)"
            ]
          },
          "metadata": {},
          "execution_count": 7
        }
      ]
    },
    {
      "cell_type": "code",
      "source": [
        "y.shape"
      ],
      "metadata": {
        "colab": {
          "base_uri": "https://localhost:8080/"
        },
        "id": "ev8yG80cHPkN",
        "outputId": "96bd3208-0546-48f2-f763-526dc4e9801a"
      },
      "execution_count": 8,
      "outputs": [
        {
          "output_type": "execute_result",
          "data": {
            "text/plain": [
              "(1360, 17)"
            ]
          },
          "metadata": {},
          "execution_count": 8
        }
      ]
    },
    {
      "cell_type": "code",
      "source": [
        "# Creatig sequential model\n",
        "\n",
        "model = Sequential()\n",
        "\n",
        "#1st convolutional Layer\n",
        "model.add(Conv2D(96, kernel_size=(11,11), strides=(4,4), padding='valid', input_shape=(224,224,3)))\n",
        "model.add(Activation(\"relu\"))\n",
        "\n",
        "#Pooling layer\n",
        "model.add(MaxPooling2D(pool_size= (3,3), padding='valid', strides=(2,2)))\n",
        "model.add(BatchNormalization())\n",
        "\n",
        "#2nd Convoluton Layer\n",
        "model.add(Conv2D(filters=256, activation='relu',strides=(1,1), padding='same', kernel_size=(5,5)))\n",
        "model.add(Activation('relu'))\n",
        "\n",
        "# 2nd pooling Layer\n",
        "model.add(MaxPooling2D(pool_size=(3,3), padding='valid', strides=(2,2)))\n",
        "model.add(BatchNormalization())\n",
        "\n",
        "#3rd Convolution Layer\n",
        "model.add(Conv2D(filters=384, kernel_size=(3,3), padding='valid', strides=(1,1)))\n",
        "model.add(Activation('relu'))\n",
        "\n",
        "#4th Convolution Layer\n",
        "model.add(Conv2D(filters=384, kernel_size=(3,3), padding='valid', strides=(1,1)))\n",
        "model.add(Activation('relu'))\n",
        "\n",
        "#5th Convolution Layer\n",
        "model.add(Conv2D(filters=256, kernel_size=(3,3), padding='valid', strides=(1,1)))\n",
        "model.add(Activation('relu'))\n",
        "\n",
        "#3rd Maxpooling Layer\n",
        "model.add(MaxPooling2D(pool_size=(3,3), strides=(2,2), padding='valid'))\n",
        "model.add(BatchNormalization())\n",
        "\n",
        "#Flattening Layer\n",
        "model.add(Flatten())\n",
        "\n",
        "#1st ANN Layer\n",
        "model.add(Dense(4096, input_shape=(224*224*3,)))\n",
        "model.add(Activation('relu'))\n",
        "model.add(Dropout(0.4))\n",
        "model.add(BatchNormalization())\n",
        "\n",
        "#2nd ANN Layer\n",
        "model.add(Dense(4096))\n",
        "model.add(Activation('relu'))\n",
        "model.add(Dropout(0.4))\n",
        "model.add(BatchNormalization())\n",
        "\n",
        "#Adding Output Layer\n",
        "model.add(Dense(17))\n",
        "model.add(Activation('softmax'))\n",
        "\n",
        "model.summary()\n"
      ],
      "metadata": {
        "colab": {
          "base_uri": "https://localhost:8080/"
        },
        "id": "4mBLuDc8HSfb",
        "outputId": "f0785d0c-1280-469f-dc1b-eab7edefff1a"
      },
      "execution_count": 12,
      "outputs": [
        {
          "output_type": "stream",
          "name": "stdout",
          "text": [
            "Model: \"sequential_3\"\n",
            "_________________________________________________________________\n",
            " Layer (type)                Output Shape              Param #   \n",
            "=================================================================\n",
            " conv2d_8 (Conv2D)           (None, 54, 54, 96)        34944     \n",
            "                                                                 \n",
            " activation_7 (Activation)   (None, 54, 54, 96)        0         \n",
            "                                                                 \n",
            " max_pooling2d_4 (MaxPooling  (None, 26, 26, 96)       0         \n",
            " 2D)                                                             \n",
            "                                                                 \n",
            " batch_normalization_4 (Batc  (None, 26, 26, 96)       384       \n",
            " hNormalization)                                                 \n",
            "                                                                 \n",
            " conv2d_9 (Conv2D)           (None, 26, 26, 256)       614656    \n",
            "                                                                 \n",
            " activation_8 (Activation)   (None, 26, 26, 256)       0         \n",
            "                                                                 \n",
            " max_pooling2d_5 (MaxPooling  (None, 12, 12, 256)      0         \n",
            " 2D)                                                             \n",
            "                                                                 \n",
            " batch_normalization_5 (Batc  (None, 12, 12, 256)      1024      \n",
            " hNormalization)                                                 \n",
            "                                                                 \n",
            " conv2d_10 (Conv2D)          (None, 10, 10, 384)       885120    \n",
            "                                                                 \n",
            " activation_9 (Activation)   (None, 10, 10, 384)       0         \n",
            "                                                                 \n",
            " conv2d_11 (Conv2D)          (None, 8, 8, 384)         1327488   \n",
            "                                                                 \n",
            " activation_10 (Activation)  (None, 8, 8, 384)         0         \n",
            "                                                                 \n",
            " conv2d_12 (Conv2D)          (None, 6, 6, 256)         884992    \n",
            "                                                                 \n",
            " activation_11 (Activation)  (None, 6, 6, 256)         0         \n",
            "                                                                 \n",
            " max_pooling2d_6 (MaxPooling  (None, 2, 2, 256)        0         \n",
            " 2D)                                                             \n",
            "                                                                 \n",
            " batch_normalization_6 (Batc  (None, 2, 2, 256)        1024      \n",
            " hNormalization)                                                 \n",
            "                                                                 \n",
            " flatten_1 (Flatten)         (None, 1024)              0         \n",
            "                                                                 \n",
            " dense_1 (Dense)             (None, 4096)              4198400   \n",
            "                                                                 \n",
            " activation_12 (Activation)  (None, 4096)              0         \n",
            "                                                                 \n",
            " dropout (Dropout)           (None, 4096)              0         \n",
            "                                                                 \n",
            " batch_normalization_7 (Batc  (None, 4096)             16384     \n",
            " hNormalization)                                                 \n",
            "                                                                 \n",
            " dense_2 (Dense)             (None, 4096)              16781312  \n",
            "                                                                 \n",
            " activation_13 (Activation)  (None, 4096)              0         \n",
            "                                                                 \n",
            " dropout_1 (Dropout)         (None, 4096)              0         \n",
            "                                                                 \n",
            " batch_normalization_8 (Batc  (None, 4096)             16384     \n",
            " hNormalization)                                                 \n",
            "                                                                 \n",
            " dense_3 (Dense)             (None, 17)                69649     \n",
            "                                                                 \n",
            " activation_14 (Activation)  (None, 17)                0         \n",
            "                                                                 \n",
            "=================================================================\n",
            "Total params: 24,831,761\n",
            "Trainable params: 24,814,161\n",
            "Non-trainable params: 17,600\n",
            "_________________________________________________________________\n"
          ]
        }
      ]
    },
    {
      "cell_type": "code",
      "source": [
        "opt= tf.optimizers.Adam(learning_rate=0.01)\n",
        "model.compile(loss= 'categorical_crossentropy', optimizer=opt, metrics=['Accuracy'])"
      ],
      "metadata": {
        "id": "j0Jbj8b8OZRN"
      },
      "execution_count": 13,
      "outputs": []
    },
    {
      "cell_type": "code",
      "source": [
        "model.fit(X, y, batch_size=64, epochs=5, verbose=1, validation_split=0.2, shuffle= True)"
      ],
      "metadata": {
        "colab": {
          "base_uri": "https://localhost:8080/"
        },
        "id": "seQYOurbQBkY",
        "outputId": "74f51ce7-a101-4d08-fdf4-52c22931f832"
      },
      "execution_count": 14,
      "outputs": [
        {
          "output_type": "stream",
          "name": "stdout",
          "text": [
            "Train on 1088 samples, validate on 272 samples\n",
            "Epoch 1/5\n",
            "1088/1088 [==============================] - ETA: 0s - loss: 9.7037 - accuracy: 4.8659e-04"
          ]
        },
        {
          "output_type": "stream",
          "name": "stderr",
          "text": [
            "/usr/local/lib/python3.7/dist-packages/keras/engine/training_v1.py:2057: UserWarning: `Model.state_updates` will be removed in a future version. This property should not be used in TensorFlow 2.0, as `updates` are applied automatically.\n",
            "  updates = self.state_updates\n"
          ]
        },
        {
          "output_type": "stream",
          "name": "stdout",
          "text": [
            "\b\b\b\b\b\b\b\b\b\b\b\b\b\b\b\b\b\b\b\b\b\b\b\b\b\b\b\b\b\b\b\b\b\b\b\b\b\b\b\b\b\b\b\b\b\b\b\b\b\b\b\b\b\b\b\b\b\b\b\b\b\b\b\b\b\b\b\b\b\b\b\b\b\b\b\b\b\b\b\b\b\b\b\b\b\b\b\b\b\b\r1088/1088 [==============================] - 14s 13ms/sample - loss: 9.7037 - accuracy: 4.8659e-04 - val_loss: 153814.3015 - val_accuracy: 0.8871\n",
            "Epoch 2/5\n",
            "1088/1088 [==============================] - 1s 1ms/sample - loss: 7.2053 - accuracy: 6.4879e-04 - val_loss: 3793.4106 - val_accuracy: 0.8871\n",
            "Epoch 3/5\n",
            "1088/1088 [==============================] - 1s 1ms/sample - loss: 5.5833 - accuracy: 7.5692e-04 - val_loss: 901.7084 - val_accuracy: 0.8821\n",
            "Epoch 4/5\n",
            "1088/1088 [==============================] - 1s 1ms/sample - loss: 4.6322 - accuracy: 3.7846e-04 - val_loss: 317.3136 - val_accuracy: 0.8084\n",
            "Epoch 5/5\n",
            "1088/1088 [==============================] - 1s 1ms/sample - loss: 4.7502 - accuracy: 0.0013 - val_loss: 91.8953 - val_accuracy: 0.4403\n"
          ]
        },
        {
          "output_type": "execute_result",
          "data": {
            "text/plain": [
              "<keras.callbacks.History at 0x7f574ff97b50>"
            ]
          },
          "metadata": {},
          "execution_count": 14
        }
      ]
    },
    {
      "cell_type": "code",
      "source": [],
      "metadata": {
        "id": "HatlAVjPQYH2"
      },
      "execution_count": null,
      "outputs": []
    }
  ]
}